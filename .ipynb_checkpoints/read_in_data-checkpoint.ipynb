{
 "cells": [
  {
   "cell_type": "markdown",
   "id": "70844463",
   "metadata": {},
   "source": [
    "# Read in StatsBomb Open Data "
   ]
  },
  {
   "cell_type": "code",
   "execution_count": null,
   "id": "52e89f7e",
   "metadata": {},
   "outputs": [],
   "source": [
    "import requests\n",
    "import pandas as pd\n",
    "import numpy as np\n",
    "import matplotlib.pyplot as plt\n",
    "import os\n",
    "\n",
    "from functions.pitch_plot import drawpitch\n",
    "\n",
    "%matplotlib inline "
   ]
  },
  {
   "cell_type": "code",
   "execution_count": null,
   "id": "ad41081a",
   "metadata": {},
   "outputs": [],
   "source": [
    "# read in info on available data\n",
    "\n",
    "competitions_info_url = \"https://raw.githubusercontent.com/statsbomb/open-data/master/data/competitions.json\"\n",
    "\n",
    "competitions_df = pd.DataFrame(requests.get(url=competitions_info_url).json())\n",
    "\n",
    "competitions_df[competitions_df[\"competition_name\"] == \"Premier League\"]"
   ]
  },
  {
   "cell_type": "code",
   "execution_count": null,
   "id": "7041d6cd",
   "metadata": {},
   "outputs": [],
   "source": [
    "# select desired competition and season; get ids\n",
    "\n",
    "selected_competition = \"Premier League\"\n",
    "\n",
    "selected_season = \"2015/2016\"\n",
    "\n",
    "competition_season_df = competitions_df[(competitions_df[\"competition_name\"] == selected_competition)\n",
    "                      & (competitions_df[\"season_name\"] == selected_season)]\n",
    "\n",
    "competition_id, season_id = competition_season_df.iloc[0][['competition_id','season_id']]"
   ]
  },
  {
   "cell_type": "code",
   "execution_count": null,
   "id": "c29103f8",
   "metadata": {},
   "outputs": [],
   "source": [
    "matches_url = f\"https://raw.githubusercontent.com/statsbomb/open-data/master/data/matches/{competition_id}/{season_id}.json\"\n",
    "\n",
    "matches_df = pd.DataFrame(requests.get(url=matches_url).json())\n",
    "\n",
    "for i in list(matches_df):\n",
    "    \n",
    "    if type(matches_df[i].tolist()[0]) == dict:\n",
    "        \n",
    "        new_cols = pd.json_normalize(matches_df[i])\n",
    "        \n",
    "        new_col_names = list(matches_df[i].tolist()[0].keys())\n",
    "\n",
    "        matches_df = pd.concat(\n",
    "                [\n",
    "                    matches_df,\n",
    "                    pd.DataFrame(\n",
    "                        new_cols, \n",
    "                        index=matches_df.index, \n",
    "                        columns=new_col_names\n",
    "                    )\n",
    "                ], axis=1\n",
    "            )\n",
    "        \n",
    "        del matches_df[i]\n",
    "        \n",
    "    else:\n",
    "        \n",
    "        pass"
   ]
  },
  {
   "cell_type": "code",
   "execution_count": null,
   "id": "47bcf730",
   "metadata": {},
   "outputs": [],
   "source": [
    "matches_df"
   ]
  },
  {
   "cell_type": "code",
   "execution_count": null,
   "id": "dab55eef",
   "metadata": {},
   "outputs": [],
   "source": [
    "# select match to look at; get meta data\n",
    "\n",
    "home_team, away_team = \"Manchester City\", \"Leicester City\"\n",
    "\n",
    "selected_match = matches_df[(matches_df[\"home_team_name\"] == home_team) &\n",
    "           (matches_df[\"away_team_name\"] == away_team)]\n",
    "\n",
    "match_id = selected_match.match_id.iloc[0]"
   ]
  },
  {
   "cell_type": "code",
   "execution_count": null,
   "id": "83b4b0f7",
   "metadata": {},
   "outputs": [],
   "source": [
    "# get match meta data\n",
    "\n",
    "date, hg, ag = selected_match['match_date'].iloc[0],\\\n",
    "               selected_match['home_score'].iloc[0],\\\n",
    "               selected_match['away_score'].iloc[0]"
   ]
  },
  {
   "cell_type": "code",
   "execution_count": null,
   "id": "72cfc519",
   "metadata": {},
   "outputs": [],
   "source": [
    "# get event data\n",
    "\n",
    "match_events_url = f\"https://raw.githubusercontent.com/statsbomb/open-data/master/data/events/{match_id}.json\"\n",
    "\n",
    "match_events_df = pd.DataFrame(requests.get(url=match_events_url.format(match_id)).json())"
   ]
  },
  {
   "cell_type": "code",
   "execution_count": null,
   "id": "a41effaf",
   "metadata": {},
   "outputs": [],
   "source": [
    "dict_cols, normal_cols = [], []\n",
    "for i in list(match_events_df):\n",
    "    if dict in set([type(i) for i in match_events_df[i]]):\n",
    "        dict_cols.append(i)\n",
    "    else:\n",
    "        normal_cols.append(i)"
   ]
  },
  {
   "cell_type": "code",
   "execution_count": null,
   "id": "2f6e3ed7",
   "metadata": {},
   "outputs": [],
   "source": [
    "df = match_events_df\n",
    "\n",
    "normalized_dfs = [df[c] for c in normal_cols]\n",
    "\n",
    "for col in dict_cols:\n",
    "    \n",
    "    x = pd.json_normalize(df[col])\n",
    "    \n",
    "    x.columns = [f\"{col}_{i}\" for i in list(x)]\n",
    "    \n",
    "    normalized_dfs.append(x)\n",
    "    \n",
    "final = pd.concat(normalized_dfs, axis=1)"
   ]
  },
  {
   "cell_type": "code",
   "execution_count": null,
   "id": "71ea6dc7",
   "metadata": {},
   "outputs": [],
   "source": [
    "list(final)"
   ]
  },
  {
   "cell_type": "code",
   "execution_count": null,
   "id": "d998f84b",
   "metadata": {},
   "outputs": [],
   "source": [
    "final.type_name.unique()"
   ]
  },
  {
   "cell_type": "code",
   "execution_count": null,
   "id": "a4163903",
   "metadata": {},
   "outputs": [],
   "source": [
    "shots = final[final[\"type_name\"] == \"Shot\"]\n",
    "shots\n",
    "\n",
    "shots[['x','y']] = pd.DataFrame(shots.location.tolist(), index= shots.index)"
   ]
  },
  {
   "cell_type": "code",
   "execution_count": null,
   "id": "c046d85e",
   "metadata": {},
   "outputs": [],
   "source": [
    "team_name = \"Leicester City\""
   ]
  },
  {
   "cell_type": "code",
   "execution_count": null,
   "id": "1e070149",
   "metadata": {},
   "outputs": [],
   "source": [
    "player_shots = shots[shots[\"possession_team_name\"] == team_name]\n",
    "player_shots"
   ]
  },
  {
   "cell_type": "code",
   "execution_count": null,
   "id": "bc9c7f25",
   "metadata": {},
   "outputs": [],
   "source": [
    "fig,ax = plt.subplots(figsize=(6,4)) \n",
    "plt.axis('off')\n",
    "fig.patch.set_facecolor('white')\n",
    "\n",
    "drawpitch(ax, hspan = [0, 120], vspan = [80,0],\n",
    "            linecolor = '#232323', facecolor = '#e8e8e8', arcs = True, \\\n",
    "            lw = 1.5, x_offset = [1,1], y_offset = [-1,-1], style_id = 8,\n",
    "            grass_cutting = False, measure='SBdata') \n",
    "\n",
    "plt.scatter(player_shots['x'],\n",
    "            player_shots['y'],\n",
    "            alpha=0.4,\n",
    "            facecolor='blue')\n",
    "\n",
    "plt.title(f\"{team_name} shots \\n{home_team} {hg} - {ag} {away_team} | {date}\")\n",
    "\n",
    "plt.tight_layout()\n",
    "plt.savefig(os.path.join('images',\n",
    "                         f'shots_plot_{team_name}.png'),\n",
    "                        dpi=300)"
   ]
  },
  {
   "cell_type": "code",
   "execution_count": null,
   "id": "e08120c2",
   "metadata": {},
   "outputs": [],
   "source": [
    "to add:\n",
    "    split into functions in scripts\n",
    "    possession chains\n",
    "    action maps\n",
    "    convex hulls\n",
    "    heatmap grids\n",
    "    xg sim (adjust for game state)\n",
    "    "
   ]
  }
 ],
 "metadata": {
  "kernelspec": {
   "display_name": "Python 3 (ipykernel)",
   "language": "python",
   "name": "python3"
  },
  "language_info": {
   "codemirror_mode": {
    "name": "ipython",
    "version": 3
   },
   "file_extension": ".py",
   "mimetype": "text/x-python",
   "name": "python",
   "nbconvert_exporter": "python",
   "pygments_lexer": "ipython3",
   "version": "3.11.5"
  }
 },
 "nbformat": 4,
 "nbformat_minor": 5
}
